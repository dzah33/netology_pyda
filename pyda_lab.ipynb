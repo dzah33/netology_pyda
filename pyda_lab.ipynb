{
 "cells": [
  {
   "cell_type": "markdown",
   "metadata": {},
   "source": [
    "#### Задача 1 \n",
    "Дана строка \n",
    "string_01 = “Mama, just killed a man, put a gun against his head, pulled my trigger, now he's dead. Mama, life had just begun, but now I've gone and thrown it all away. Mama, ooh (any way the wind blows), didn't mean to make you cry. If I'm not back again this time tomorrow carry on, carry on as if nothing really matters.”"
   ]
  },
  {
   "cell_type": "code",
   "execution_count": 5,
   "metadata": {},
   "outputs": [],
   "source": [
    "string_01 = \"Mama, just killed a man, put a gun against his head, pulled my trigger, now he's dead. Mama, life had just begun, but now I've gone and thrown it all away. Mama, ooh (any way the wind blows), didn't mean to make you cry. If I'm not back again this time tomorrow carry on, carry on as if nothing really matters.\""
   ]
  },
  {
   "cell_type": "code",
   "execution_count": 6,
   "metadata": {},
   "outputs": [
    {
     "name": "stdout",
     "output_type": "stream",
     "text": [
      "250\n"
     ]
    }
   ],
   "source": [
    "#1.Посчитайте, сколько в строке символов (исключая пробелы).\n",
    "\n",
    "print(len(string_01) - string_01.count(' '))"
   ]
  },
  {
   "cell_type": "code",
   "execution_count": 32,
   "metadata": {},
   "outputs": [
    {
     "data": {
      "text/plain": [
       "250"
      ]
     },
     "execution_count": 32,
     "metadata": {},
     "output_type": "execute_result"
    }
   ],
   "source": [
    "len(string_01.replace(' ', ''))"
   ]
  },
  {
   "cell_type": "code",
   "execution_count": 8,
   "metadata": {},
   "outputs": [
    {
     "data": {
      "text/plain": [
       "61"
      ]
     },
     "execution_count": 8,
     "metadata": {},
     "output_type": "execute_result"
    }
   ],
   "source": [
    "#2.Посчитайте, сколько в строке слов.\n",
    "len(string_01.split(' '))"
   ]
  },
  {
   "cell_type": "code",
   "execution_count": 22,
   "metadata": {},
   "outputs": [
    {
     "data": {
      "text/plain": [
       "\"his he's blows this as matters \""
      ]
     },
     "execution_count": 22,
     "metadata": {},
     "output_type": "execute_result"
    }
   ],
   "source": [
    "#3.Функция принимает в качестве аргумента букву и выводит все слова из строки, заканчивающиеся на эту букву\n",
    "\n",
    "def find_in_end(string, letter):\n",
    "    words = string.replace(',', '').replace(')', '').replace('.', '').split()\n",
    "    result = ''\n",
    "    for word in words:\n",
    "        if word[len(word)-1] == letter: \n",
    "            result += word + ' ' \n",
    "\n",
    "    return result\n",
    "\n",
    "find_in_end(string_01, 's')"
   ]
  },
  {
   "cell_type": "code",
   "execution_count": 35,
   "metadata": {},
   "outputs": [
    {
     "data": {
      "text/plain": [
       "\"just put against just but it didn't not \""
      ]
     },
     "execution_count": 35,
     "metadata": {},
     "output_type": "execute_result"
    }
   ],
   "source": [
    "def find_end(string, letter):\n",
    "    words = string.replace(',', '').replace(')', '').replace('.', '').split()\n",
    "    result = ''\n",
    "    for word in words:\n",
    "        if word.endswith(letter): \n",
    "            result += word + ' ' \n",
    "\n",
    "    return result\n",
    "\n",
    "find_end(string_01, 't')"
   ]
  },
  {
   "cell_type": "code",
   "execution_count": 29,
   "metadata": {},
   "outputs": [
    {
     "data": {
      "text/plain": [
       "'mama man my mama mama mean make matters '"
      ]
     },
     "execution_count": 29,
     "metadata": {},
     "output_type": "execute_result"
    }
   ],
   "source": [
    "#4.Функция принимает в качестве аргумента букву и выводит все слова из строки, начинающиеся на эту букву (например, “m”).\n",
    "\n",
    "def find_in_start(string, letter):\n",
    "    words = string.lower().replace(',', '').replace(')', '').replace('.', '').split()\n",
    "    result = ''\n",
    "    for word in words:\n",
    "        if word[0] == letter: \n",
    "            result += word + ' ' \n",
    "\n",
    "    return result\n",
    "\n",
    "find_in_start(string_01, 'm')"
   ]
  },
  {
   "cell_type": "code",
   "execution_count": 37,
   "metadata": {},
   "outputs": [
    {
     "data": {
      "text/plain": [
       "'Mama man my Mama Mama mean make matters '"
      ]
     },
     "execution_count": 37,
     "metadata": {},
     "output_type": "execute_result"
    }
   ],
   "source": [
    "def starts_with(string, letter):\n",
    "    words = string.replace(',', '').replace(')', '').replace('.', '').split()\n",
    "    result = ''\n",
    "    for word in words:\n",
    "        if word.startswith(letter.lower()) or word.startswith(letter.upper()): \n",
    "            result += word + ' ' \n",
    "\n",
    "    return result\n",
    "\n",
    "starts_with(string_01, 'm')"
   ]
  },
  {
   "cell_type": "markdown",
   "metadata": {},
   "source": [
    "#### Задача 2 \n",
    "Напишите код, который будет генерировать случайную последовательность из 6 цифр, одна из которых должна быть 3. Позиция цифры 3 должна определяться случайным образом. Результат должен быть строкой. Например: \"456309\" или \"330127\"."
   ]
  },
  {
   "cell_type": "code",
   "execution_count": 30,
   "metadata": {},
   "outputs": [],
   "source": [
    "import random"
   ]
  },
  {
   "cell_type": "code",
   "execution_count": 40,
   "metadata": {},
   "outputs": [
    {
     "name": "stdout",
     "output_type": "stream",
     "text": [
      "313705\n"
     ]
    }
   ],
   "source": [
    "#генерируем случайное шестизначное число, содержащее цифру 3\n",
    "\n",
    "number = 0\n",
    "while '3' not in str(number):\n",
    "    number = random.randint(100000, 999999)\n",
    "print(str(number))"
   ]
  },
  {
   "cell_type": "code",
   "execution_count": 41,
   "metadata": {},
   "outputs": [
    {
     "name": "stdout",
     "output_type": "stream",
     "text": [
      "308985\n"
     ]
    }
   ],
   "source": [
    "#генерируем случайную последовательность из 6 цифр, содержащую цифру 3\n",
    "\n",
    "number = ''\n",
    "while '3' not in number:\n",
    "    number = ''.join([str(random.randint(0, 9)) for i in range(6)])\n",
    "print(number)"
   ]
  },
  {
   "cell_type": "markdown",
   "metadata": {},
   "source": [
    "#### Задача 3\n",
    "Дан список \n",
    "list_01 = [1, 1, 2, 3, 5, 8, 13, 21, 34, 55, 89, 144, 233, 377, 610] Напишите алгоритм, который выводит сумму элементов списка, которые больше 10, но меньше 100."
   ]
  },
  {
   "cell_type": "code",
   "execution_count": 43,
   "metadata": {},
   "outputs": [],
   "source": [
    "list_01 = [1, 1, 2, 3, 5, 8, 13, 21, 34, 55, 89, 144, 233, 377, 610] "
   ]
  },
  {
   "cell_type": "code",
   "execution_count": 45,
   "metadata": {},
   "outputs": [
    {
     "name": "stdout",
     "output_type": "stream",
     "text": [
      "212\n"
     ]
    }
   ],
   "source": [
    "sum_list = 0\n",
    "for i in list_01:\n",
    "    if 10 < i < 100:\n",
    "        sum_list += i\n",
    "print(sum_list)"
   ]
  },
  {
   "cell_type": "markdown",
   "metadata": {},
   "source": [
    "#### Задача 4 \n",
    "Данные студентов представлены в виде списка списков:\n",
    "\n",
    "1.Преобразуйте данные таким образом, чтобы они были представлены в виде словаря, в котором ключами являются номера студентов, а значениями — список из других данных о студентах.\n",
    "\n",
    "2.Напишите функцию, которая принимает в качестве аргумента номер студента и новый номер группы и позволяет изменить номер группы этого студента на новый.\n",
    "\n",
    "3.Напишите функцию, которая принимает номер группы и выводит список (фамилии, имена, отчества) всех студентов этой группы. "
   ]
  },
  {
   "cell_type": "code",
   "execution_count": 47,
   "metadata": {},
   "outputs": [],
   "source": [
    "students = [ \n",
    "    [\"0001\", \"Антонов\", \"Антон\", \"Игоревич\", \"20.08.2009\", \"БСТ161\"],\n",
    "    [\"1102\", \"Богов\", \"Артем\", \"Игоревич\", \"25.01.2010\", \"БСТ162\"],\n",
    "    [\"0333\", \"Глаголева\", \"Анастасия\", \"Николаевна\", \"11.07.2009\", \"БСТ163\"],\n",
    "    [\"4004\", \"Степанова\", \"Наталья\", \"Александровна\", \"13.02.2008\", \"БСТ161\"],\n",
    "    [\"0045\", \"Боков\", \"Игорь\", \"Харитонович\", \"02.06.2009\", \"БСТ161\"],\n",
    "    [\"0096\", \"Васильков\", \"Валентин\", \"Сергеевич\", \"20.03.2009\", \"БСТ164\"],\n",
    "    [\"0607\", \"Сиропова\", \"Виолетта\", \"Эдуардовна\", \"28.05.2010\", \"БСТ162\"],\n",
    "    [\"0309\", \"Шафутинский\", \"Михаил\", \"Михайлович\", \"03.09.2007\", \"БСТ163\"] \n",
    "            ] "
   ]
  },
  {
   "cell_type": "code",
   "execution_count": 48,
   "metadata": {},
   "outputs": [],
   "source": [
    "#1. преобразуем в словарь\n",
    "students_dict = dict()"
   ]
  },
  {
   "cell_type": "code",
   "execution_count": 49,
   "metadata": {},
   "outputs": [
    {
     "name": "stdout",
     "output_type": "stream",
     "text": [
      "{'0001': ['Антонов', 'Антон', 'Игоревич', '20.08.2009', 'БСТ161'], '1102': ['Богов', 'Артем', 'Игоревич', '25.01.2010', 'БСТ162'], '0333': ['Глаголева', 'Анастасия', 'Николаевна', '11.07.2009', 'БСТ163'], '4004': ['Степанова', 'Наталья', 'Александровна', '13.02.2008', 'БСТ161'], '0045': ['Боков', 'Игорь', 'Харитонович', '02.06.2009', 'БСТ161'], '0096': ['Васильков', 'Валентин', 'Сергеевич', '20.03.2009', 'БСТ164'], '0607': ['Сиропова', 'Виолетта', 'Эдуардовна', '28.05.2010', 'БСТ162'], '0309': ['Шафутинский', 'Михаил', 'Михайлович', '03.09.2007', 'БСТ163']}\n"
     ]
    }
   ],
   "source": [
    "for line in students:\n",
    "    students_dict[line[0]] = line[1:]\n",
    "    \n",
    "print(students_dict)"
   ]
  },
  {
   "cell_type": "code",
   "execution_count": 52,
   "metadata": {},
   "outputs": [
    {
     "name": "stdout",
     "output_type": "stream",
     "text": [
      "{'0001': ['Антонов', 'Антон', 'Игоревич', '20.08.2009', 'БСТ161'], '1102': ['Богов', 'Артем', 'Игоревич', '25.01.2010', 'БСТ162'], '0333': ['Глаголева', 'Анастасия', 'Николаевна', '11.07.2009', 'БСТ163'], '4004': ['Степанова', 'Наталья', 'Александровна', '13.02.2008', 'БСТ161'], '0045': ['Боков', 'Игорь', 'Харитонович', '02.06.2009', 'БСТ161'], '0096': ['Васильков', 'Валентин', 'Сергеевич', '20.03.2009', 'БСТ164'], '0607': ['Сиропова', 'Виолетта', 'Эдуардовна', '28.05.2010', 'БСТ162'], '0309': ['Шафутинский', 'Михаил', 'Михайлович', '03.09.2007', '3 сентября']}\n"
     ]
    }
   ],
   "source": [
    "#2.Функция принимает в качестве аргумента номер студента и номер группы и меняет номер группы на новый.\n",
    "\n",
    "def change_number(student, group_number):\n",
    "    students_dict[student][4] = group_number\n",
    "    \n",
    "change_number('0309', '3 сентября')\n",
    "print(students_dict)"
   ]
  },
  {
   "cell_type": "code",
   "execution_count": 58,
   "metadata": {},
   "outputs": [
    {
     "name": "stdout",
     "output_type": "stream",
     "text": [
      "['Антонов', 'Антон', 'Игоревич']\n",
      "['Степанова', 'Наталья', 'Александровна']\n",
      "['Боков', 'Игорь', 'Харитонович']\n"
     ]
    }
   ],
   "source": [
    "#3.Функция принимает номер группы и выводит список (фамилии, имена, отчества) всех студентов этой группы. \n",
    "\n",
    "def group_students(group):\n",
    "    for line in students_dict.values():\n",
    "        if line[4] == group:\n",
    "            print(line[0:3])\n",
    "\n",
    "group_students('БСТ161')          "
   ]
  },
  {
   "cell_type": "code",
   "execution_count": 60,
   "metadata": {},
   "outputs": [
    {
     "name": "stdout",
     "output_type": "stream",
     "text": [
      "Антонов Антон Игоревич\n",
      "Степанова Наталья Александровна\n",
      "Боков Игорь Харитонович\n"
     ]
    }
   ],
   "source": [
    "def group_students(group):\n",
    "    for line in students_dict.values():\n",
    "        if line[-1] == group:\n",
    "            print(line[0], line[1], line[2])\n",
    "\n",
    "group_students('БСТ161') "
   ]
  },
  {
   "cell_type": "markdown",
   "metadata": {},
   "source": [
    "#### Задача 5 \n",
    "Дана матрица:\n",
    "matrix = [ [0, 1, 2, 4, 8], [6, 2, 2, 1, 9], [3, 3, 3, 3, 3], [4, 6, 7, 1, 2], [5, 7, 3, 4, 0] ] \n",
    "\n",
    "1.Выведите результат сложения всех элементов матрицы.\n",
    "\n",
    "2.Напишите алгоритм вычисления максимума из сумм элементов каждого столбца."
   ]
  },
  {
   "cell_type": "code",
   "execution_count": 61,
   "metadata": {},
   "outputs": [],
   "source": [
    "matrix = [ \n",
    "    [0, 1, 2, 4, 8],\n",
    "    [6, 2, 2, 1, 9],\n",
    "    [3, 3, 3, 3, 3],\n",
    "    [4, 6, 7, 1, 2],\n",
    "    [5, 7, 3, 4, 0] \n",
    "        ] "
   ]
  },
  {
   "cell_type": "code",
   "execution_count": 62,
   "metadata": {},
   "outputs": [],
   "source": [
    "import numpy as np"
   ]
  },
  {
   "cell_type": "code",
   "execution_count": 65,
   "metadata": {},
   "outputs": [
    {
     "data": {
      "text/plain": [
       "89"
      ]
     },
     "execution_count": 65,
     "metadata": {},
     "output_type": "execute_result"
    }
   ],
   "source": [
    "#1.Выведите результат сложения всех элементов матрицы\n",
    "np.sum(matrix)"
   ]
  },
  {
   "cell_type": "code",
   "execution_count": 66,
   "metadata": {},
   "outputs": [
    {
     "data": {
      "text/plain": [
       "89"
      ]
     },
     "execution_count": 66,
     "metadata": {},
     "output_type": "execute_result"
    }
   ],
   "source": [
    "#через цикл\n",
    "sum(sum(line) for line in matrix)"
   ]
  },
  {
   "cell_type": "code",
   "execution_count": 70,
   "metadata": {},
   "outputs": [
    {
     "data": {
      "text/plain": [
       "array([18, 19, 17, 13, 22])"
      ]
     },
     "execution_count": 70,
     "metadata": {},
     "output_type": "execute_result"
    }
   ],
   "source": [
    "#2.Напишите алгоритм вычисления максимума из сумм элементов каждого столбца\n",
    "np.sum(matrix, axis=0)"
   ]
  },
  {
   "cell_type": "code",
   "execution_count": 71,
   "metadata": {},
   "outputs": [
    {
     "data": {
      "text/plain": [
       "22"
      ]
     },
     "execution_count": 71,
     "metadata": {},
     "output_type": "execute_result"
    }
   ],
   "source": [
    "max(np.sum(matrix, axis=0))"
   ]
  },
  {
   "cell_type": "code",
   "execution_count": 75,
   "metadata": {},
   "outputs": [
    {
     "data": {
      "text/plain": [
       "array([15, 20, 15, 20, 19])"
      ]
     },
     "execution_count": 75,
     "metadata": {},
     "output_type": "execute_result"
    }
   ],
   "source": [
    "# если сумма по строкам\n",
    "np.sum(matrix, axis=1)"
   ]
  },
  {
   "cell_type": "code",
   "execution_count": 76,
   "metadata": {},
   "outputs": [
    {
     "data": {
      "text/plain": [
       "20"
      ]
     },
     "execution_count": 76,
     "metadata": {},
     "output_type": "execute_result"
    }
   ],
   "source": [
    "max(np.sum(matrix, axis=1))"
   ]
  }
 ],
 "metadata": {
  "kernelspec": {
   "display_name": "Python 3",
   "language": "python",
   "name": "python3"
  },
  "language_info": {
   "codemirror_mode": {
    "name": "ipython",
    "version": 3
   },
   "file_extension": ".py",
   "mimetype": "text/x-python",
   "name": "python",
   "nbconvert_exporter": "python",
   "pygments_lexer": "ipython3",
   "version": "3.7.1"
  }
 },
 "nbformat": 4,
 "nbformat_minor": 2
}
