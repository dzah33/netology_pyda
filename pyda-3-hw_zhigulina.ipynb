{
 "cells": [
  {
   "cell_type": "markdown",
   "metadata": {},
   "source": [
    "## Задание 1"
   ]
  },
  {
   "cell_type": "markdown",
   "metadata": {},
   "source": [
    "Дан список вида:"
   ]
  },
  {
   "cell_type": "code",
   "execution_count": 2,
   "metadata": {},
   "outputs": [
    {
     "data": {
      "text/plain": [
       "103"
      ]
     },
     "execution_count": 2,
     "metadata": {},
     "output_type": "execute_result"
    }
   ],
   "source": [
    "data = [\n",
    "    [13, 25, 23, 34],\n",
    "    [45, 32, 44, 47],\n",
    "    [12, 33, 23, 95],\n",
    "    [13, 53, 34, 35]\n",
    "]\n",
    "def diag_sum():\n",
    "    result = sum(data[i][i] for i in range(len(data)))\n",
    "    return result\n",
    "diag_sum()"
   ]
  },
  {
   "cell_type": "markdown",
   "metadata": {},
   "source": [
    "Напишите функцию, которая возвращает сумму элементов на диагонали. Т. е. 13+32+23+35."
   ]
  },
  {
   "cell_type": "markdown",
   "metadata": {},
   "source": [
    "## Задание 2"
   ]
  },
  {
   "cell_type": "markdown",
   "metadata": {},
   "source": [
    "Дан список чисел, часть из которых имеют строковый тип или содержат буквы. Напишите функцию, которая возвращает сумму квадратов элементов, которые могут быть числами."
   ]
  },
  {
   "cell_type": "code",
   "execution_count": 3,
   "metadata": {},
   "outputs": [
    {
     "data": {
      "text/plain": [
       "430.0"
      ]
     },
     "execution_count": 3,
     "metadata": {},
     "output_type": "execute_result"
    }
   ],
   "source": [
    "data = [1, '5', 'abc', 20, '2']\n",
    "\n",
    "def sum_squares():\n",
    "    result = 0\n",
    "    for el in data:\n",
    "        try:\n",
    "            result += float(el)**2\n",
    "        except: \n",
    "            pass\n",
    "    return result\n",
    "\n",
    "sum_squares()"
   ]
  },
  {
   "cell_type": "markdown",
   "metadata": {},
   "source": [
    "## Задание 3"
   ]
  },
  {
   "cell_type": "markdown",
   "metadata": {},
   "source": [
    "Напишите функцию, возвращающую сумму первых n чисел Фибоначчи."
   ]
  },
  {
   "cell_type": "code",
   "execution_count": 4,
   "metadata": {},
   "outputs": [
    {
     "name": "stdout",
     "output_type": "stream",
     "text": [
      "Введите номер элемента ряда Фибоначчи: 7\n",
      "Сумма первых 7 элементов ряда Фибоначчи равна: 33\n"
     ]
    }
   ],
   "source": [
    "n = int(input('Введите номер элемента ряда Фибоначчи: '))\n",
    "def fibonacci(n):\n",
    "    fib1, fib2 = 1, 1\n",
    "    for i in range(n):\n",
    "        yield fib1\n",
    "        fib1, fib2 = fib2, fib1 + fib2\n",
    "data = list(fibonacci(n))\n",
    "print(f'Сумма первых {n} элементов ряда Фибоначчи равна: {sum(data)}')"
   ]
  },
  {
   "cell_type": "markdown",
   "metadata": {},
   "source": [
    "## Задание 4"
   ]
  },
  {
   "cell_type": "markdown",
   "metadata": {},
   "source": [
    "Дан набор данных об обучении студентов на курсе программирования, который содержит: \n",
    "1) имя\n",
    "2) фамилию \n",
    "3) пол \n",
    "4) наличие у студента опыта в программировании \n",
    "5) набор оценок за домашние работы \n",
    "6) оценку за итоговую работу.\n",
    "\n",
    "Напишите программу, которая будет принимать команду от пользователя и возвращать соотвествующий результат.\n",
    "Список команд: \n",
    "1 - вывести на экран среднюю оценку за все ДЗ по группе и вывести на экран среднюю оценку за экзамен по группе;\n",
    "2 - вывести среднюю оценку за ДЗ и за экзамен по группе в разрезе пола студентов\n",
    "3 - вывести среднюю оценку за ДЗ и за экзамен в разрезе наличия опыта в программировании у студентов.\n",
    "\n",
    "Прогрмма должна быть полностью декомпозирована на функции (кроме объявления функций и вызова итоговой функции в реализации ничего быть не должно)."
   ]
  },
  {
   "cell_type": "code",
   "execution_count": 6,
   "metadata": {},
   "outputs": [
    {
     "name": "stdout",
     "output_type": "stream",
     "text": [
      "Введите команду: 1\n",
      "Средняя оценка за все ДЗ по группе: 8.43\n",
      "Средняя оценка за экзамен по группе: 9.17\n",
      "Введите команду: 2\n",
      "Средняя оценка за ДЗ у мужчин: 8.8\n",
      "Средняя оценка за экзамен у мужчин: 9.0\n",
      "Средняя оценка за ДЗ у женщин: 8.36\n",
      "Средняя оценка за экзамен у женщин: 9.2\n",
      "Введите команду: 3\n",
      "Средняя оценка за ДЗ у студентов с опытом: 8.48\n",
      "Средняя оценка за экзамен у студентов с опытом: 9.0\n",
      "Средняя оценка за ДЗ у студентов без опыта: 8.2\n",
      "Средняя оценка за экзамен у студентов без опыта: 10.0\n",
      "Введите команду: q\n",
      "До свидания!\n"
     ]
    }
   ],
   "source": [
    "students_list = [\n",
    "    {'name': 'Василий', 'surname': 'Теркин', 'sex': 'м', 'program_exp': True, 'grade': [8, 8, 9, 10, 9], 'exam': 9},\n",
    "    {'name': 'Мария', 'surname': 'Павлова', 'sex': 'ж', 'program_exp': True, 'grade': [7, 8, 9, 7, 9], 'exam': 8},\n",
    "    {'name': 'Ирина', 'surname': 'Андреева', 'sex': 'ж', 'program_exp': True, 'grade': [10, 9, 8, 10, 10], 'exam': 10},\n",
    "    {'name': 'Татьяна', 'surname': 'Сидорова', 'sex': 'ж', 'program_exp': True, 'grade': [7, 8, 8, 9, 8], 'exam': 8},\n",
    "    {'name': 'Иван', 'surname': 'Васильев', 'sex': 'ж', 'program_exp': True, 'grade': [9, 8, 9, 6, 9], 'exam': 10},\n",
    "    {'name': 'Роман', 'surname': 'Золотарев', 'sex': 'ж', 'program_exp': False, 'grade': [8, 9, 9, 6, 9], 'exam': 10}\n",
    "]\n",
    "\n",
    "def get_average_grades(students):\n",
    "    sum_average_hw = 0\n",
    "    sum_average_ex = 0\n",
    "    for student in students:\n",
    "        sum_average_hw += sum(student['grade'])/len(student['grade'])\n",
    "        sum_average_ex += student['exam']\n",
    "    print(f'Средняя оценка за все ДЗ по группе: {round(sum_average_hw/len(students), 2)}')\n",
    "    print(f'Средняя оценка за экзамен по группе: {round(sum_average_ex/len(students), 2)}')\n",
    "    \n",
    "#get_average_grades(students_list)\n",
    "\n",
    "def get_average_grades_by_sex(students, sex='м'):\n",
    "    sum_average_hw = 0\n",
    "    sum_average_ex = 0\n",
    "    student_counter = 0\n",
    "    for student in students:\n",
    "        if student['sex'] == sex:\n",
    "            sum_average_hw += sum(student['grade'])/len(student['grade'])\n",
    "            sum_average_ex += student['exam']\n",
    "            student_counter += 1\n",
    "    if sex == 'м':\n",
    "        print(f'Средняя оценка за ДЗ у мужчин: {round(sum_average_hw/student_counter, 2)}')\n",
    "        print(f'Средняя оценка за экзамен у мужчин: {round(sum_average_ex/student_counter, 2)}')\n",
    "    else:    \n",
    "        print(f'Средняя оценка за ДЗ у женщин: {round(sum_average_hw/student_counter, 2)}')\n",
    "        print(f'Средняя оценка за экзамен у женщин: {round(sum_average_ex/student_counter, 2)}')\n",
    "\n",
    "#get_average_grades_by_sex(students_list)\n",
    "#get_average_grades_by_sex(students_list, sex='ж')\n",
    "\n",
    "def get_average_grades_by_exp(students, exp=True):\n",
    "    sum_average_hw = 0\n",
    "    sum_average_ex = 0\n",
    "    student_counter = 0\n",
    "    for student in students:\n",
    "        if student['program_exp'] == exp:\n",
    "            sum_average_hw += sum(student['grade'])/len(student['grade'])\n",
    "            sum_average_ex += student['exam']\n",
    "            student_counter += 1\n",
    "    if exp == True:\n",
    "        print(f'Средняя оценка за ДЗ у студентов с опытом: {round(sum_average_hw/student_counter, 2)}')\n",
    "        print(f'Средняя оценка за экзамен у студентов с опытом: {round(sum_average_ex/student_counter, 2)}')\n",
    "    else:\n",
    "        print(f'Средняя оценка за ДЗ у студентов без опыта: {round(sum_average_hw/student_counter, 2)}')\n",
    "        print(f'Средняя оценка за экзамен у студентов без опыта: {round(sum_average_ex/student_counter, 2)}')\n",
    "        \n",
    "#get_average_grades_by_exp(students_list)\n",
    "#get_average_grades_by_exp(students_list, exp=False)\n",
    "\n",
    "def main():\n",
    "    while True:\n",
    "        user_input = input('Введите команду: ')\n",
    "        if user_input == '1':\n",
    "            get_average_grades(students_list)\n",
    "        elif user_input == '2':\n",
    "            get_average_grades_by_sex(students_list)\n",
    "            get_average_grades_by_sex(students_list, sex='ж')\n",
    "        elif user_input == '3':\n",
    "            get_average_grades_by_exp(students_list)\n",
    "            get_average_grades_by_exp(students_list, exp=False) \n",
    "        elif user_input == 'q':\n",
    "            print('До свидания!')\n",
    "            break            \n",
    "        \n",
    "main()"
   ]
  },
  {
   "cell_type": "code",
   "execution_count": null,
   "metadata": {},
   "outputs": [],
   "source": []
  }
 ],
 "metadata": {
  "kernelspec": {
   "display_name": "Python 3",
   "language": "python",
   "name": "python3"
  },
  "language_info": {
   "codemirror_mode": {
    "name": "ipython",
    "version": 3
   },
   "file_extension": ".py",
   "mimetype": "text/x-python",
   "name": "python",
   "nbconvert_exporter": "python",
   "pygments_lexer": "ipython3",
   "version": "3.7.1"
  }
 },
 "nbformat": 4,
 "nbformat_minor": 2
}
