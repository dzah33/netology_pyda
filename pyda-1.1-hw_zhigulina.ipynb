{
 "cells": [
  {
   "cell_type": "markdown",
   "metadata": {},
   "source": [
    "**Задание 1**. Даны 2 строки: *long_phrase* и *short_phrase*. \n",
    "Напишите код, который проверяет действительно ли длинная фраза *long_phrase* длиннее короткой *short_phrase*. И выводит *True* или *False* в зависимости от результата сравнения."
   ]
  },
  {
   "cell_type": "code",
   "execution_count": 1,
   "metadata": {},
   "outputs": [
    {
     "name": "stdout",
     "output_type": "stream",
     "text": [
      "True\n"
     ]
    }
   ],
   "source": [
    "long_phrase = 'Насколько проще было бы писать программы, если бы не заказчики'\n",
    "short_phrase = '640Кб должно хватить для любых задач. Билл Гейтс (по легенде)'\n",
    "print(len(long_phrase) > len(short_phrase))"
   ]
  },
  {
   "cell_type": "code",
   "execution_count": null,
   "metadata": {},
   "outputs": [],
   "source": []
  },
  {
   "cell_type": "markdown",
   "metadata": {},
   "source": [
    "**Задание 2**. Дано значение объема файла в байтах. Напишите перевод этого значения в мегабайты в формате: \"*Объем файла равен 213.68Mb*\""
   ]
  },
  {
   "cell_type": "code",
   "execution_count": 2,
   "metadata": {},
   "outputs": [
    {
     "name": "stdout",
     "output_type": "stream",
     "text": [
      "Введите объём файла в байтах: 1098872\n",
      "Объем файла равен 1.05 Mb\n"
     ]
    }
   ],
   "source": [
    "#1Mb = 1048576B\n",
    "file_b = int(input('Введите объём файла в байтах: '))\n",
    "file_mb = round(file_b/1048576, 2)\n",
    "print(f'Объем файла равен {file_mb} Mb')"
   ]
  },
  {
   "cell_type": "markdown",
   "metadata": {},
   "source": [
    "**Задание 3**. Разработать приложение для определения знака зодиака по дате рождения. Пример:\n",
    "\n",
    "Введите месяц: март\n",
    "\n",
    "Введите число: 6\n",
    "\n",
    "Вывод:\n",
    "Рыбы"
   ]
  },
  {
   "cell_type": "code",
   "execution_count": 3,
   "metadata": {},
   "outputs": [
    {
     "name": "stdout",
     "output_type": "stream",
     "text": [
      "Введите месяц: февраль\n",
      "Введите число: 29\n",
      "Вывод: Рыбы\n"
     ]
    }
   ],
   "source": [
    "#Овен 21 марта — 20 апреля       Телец 21 апреля — 21 мая\n",
    "#Близнецы 22 мая — 21 июня       Рак 22 июня — 22 июля\n",
    "#Лев 23 июля — 21 августа        Дева 22 августа — 23 сентября\n",
    "#Весы 24 сентября — 23 октября   Скорпион 24 октября — 22 ноября\n",
    "#Стрелец 23 ноября — 22 декабря  Козерог 23 декабря — 20 января\n",
    "#Водолей 21 января — 19 февраля  Рыбы 20 февраля — 20 марта\n",
    "\n",
    "month = input('Введите месяц: ')\n",
    "day = int(input('Введите число: '))\n",
    "if (day in range (21, 32) and month == 'март') or (day in range (1, 21) and month == 'апрель'):\n",
    "    print('Вывод: Овен')\n",
    "elif (day in range (21, 31) and month == 'апрель') or (day in range (1, 22) and month == 'май'):\n",
    "    print('Вывод: Телец')\n",
    "elif (day in range (22, 32) and month == 'май') or (day in range (1, 22) and month == 'июнь'):\n",
    "    print('Вывод: Близнецы')\n",
    "elif (day in range (22, 31) and month == 'июнь') or (day in range (1, 23) and month == 'июль'):\n",
    "    print('Вывод: Рак')\n",
    "elif (day in range (23, 32) and month == 'июль') or (day in range (1, 22) and month == 'август'):\n",
    "    print('Вывод: Лев')\n",
    "elif (day in range (22, 32) and month == 'август') or (day in range (1, 24) and month == 'сентябрь'):\n",
    "    print('Вывод: Дева')\n",
    "elif (day in range (24, 31) and month == 'сентябрь') or (day in range (1, 24) and month == 'октябрь'):\n",
    "    print('Вывод: Весы')\n",
    "elif (day in range (24, 32) and month == 'октябрь') or (day in range (1, 23) and month == 'ноябрь'):\n",
    "    print('Вывод: Скорпион')\n",
    "elif (day in range (23, 31) and month == 'ноябрь') or (day in range (1, 23) and month == 'декабрь'):\n",
    "    print('Вывод: Стрелец')\n",
    "elif (day in range (23, 32) and month == 'декабрь') or (day in range (1, 21) and month == 'январь'):\n",
    "    print('Вывод: Козерог')\n",
    "elif (day in range (21, 32) and month == 'январь') or (day in range (1, 20) and month == 'февраль'):\n",
    "    print('Вывод: Водолей')\n",
    "elif (day in range (20, 30) and month == 'февраль') or (day in range (1, 21) and month == 'март'):\n",
    "    print('Вывод: Рыбы')\n",
    "else:\n",
    "    print('Вывод: Некорректная дата')"
   ]
  },
  {
   "cell_type": "markdown",
   "metadata": {},
   "source": [
    "**Задание 4**. Нужно разработать приложение для финансового планирования.\n",
    "Приложение учитывает сколько уходит на ипотеку, \"на жизнь\" и сколько нужно отложить на пенсию.\n",
    "Пользователь вводит:\n",
    "- заработанную плату в месяц.\n",
    "- сколько процентов от ЗП уходит на ипотеку.\n",
    "- сколько процентов от ЗП уходит \"на жизнь\".\n",
    "- сколько раз приходит премия в год.\n",
    "\n",
    "Остальная часть заработанной платы откладывается на пенсию.\n",
    "\n",
    "Также пользователю приходит премия в размере зарплаты, от которой половина уходит на отпуск, а вторая половина откладывается.\n",
    "\n",
    "Программа должна учитывать сколько премий было в год.\n",
    "\n",
    "Нужно вывести сколько денег тратит пользователь на ипотеку и сколько он накопит за год.\n",
    "\n",
    "Пример:\n",
    "\n",
    "Введите заработанную плату в месяц: 100000\n",
    "\n",
    "Введите сколько процентов уходит на ипотеку: 30\n",
    "\n",
    "Введите сколько процентов уходит на жизнь: 50\n",
    "\n",
    "Введите количество премий за год: 2\n",
    "\n",
    "Вывод:\n",
    "На ипотеку было потрачено: 360000 рублей\n",
    "Было накоплено: 340000 рублей"
   ]
  },
  {
   "cell_type": "code",
   "execution_count": 4,
   "metadata": {},
   "outputs": [
    {
     "name": "stdout",
     "output_type": "stream",
     "text": [
      "Введите заработанную плату в месяц:100000\n",
      "Введите сколько процентов уходит на ипотеку:30\n",
      "Введите сколько процентов уходит на жизнь:50\n",
      "Введите количество премий за год:2\n",
      "Вывод: На ипотеку было потрачено: 360000 рублей. Было накоплено: 340000 рублей\n"
     ]
    }
   ],
   "source": [
    "salary = int(input('Введите заработанную плату в месяц:'))\n",
    "mortgage = int(input('Введите сколько процентов уходит на ипотеку:'))\n",
    "life = int(input('Введите сколько процентов уходит на жизнь:'))\n",
    "premium = int(input('Введите количество премий за год:'))\n",
    "mortgage_sum = salary * mortgage/100 * 12\n",
    "savings = salary*12 + salary*premium/2 - mortgage_sum - salary*life/100*12 \n",
    "print(f'Вывод: На ипотеку было потрачено: {int(mortgage_sum)} рублей. Было накоплено: {int(savings)} рублей')"
   ]
  }
 ],
 "metadata": {
  "kernelspec": {
   "display_name": "Python 3",
   "language": "python",
   "name": "python3"
  },
  "language_info": {
   "codemirror_mode": {
    "name": "ipython",
    "version": 3
   },
   "file_extension": ".py",
   "mimetype": "text/x-python",
   "name": "python",
   "nbconvert_exporter": "python",
   "pygments_lexer": "ipython3",
   "version": "3.7.1"
  }
 },
 "nbformat": 4,
 "nbformat_minor": 2
}
